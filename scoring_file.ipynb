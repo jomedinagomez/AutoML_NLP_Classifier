{
  "cells": [
    {
      "cell_type": "code",
      "source": [
        "from inference_schema.schema_decorators import input_schema, output_schema\n",
        "from inference_schema.parameter_types.numpy_parameter_type import NumpyParameterType\n",
        "from inference_schema.parameter_types.pandas_parameter_type import PandasParameterType\n",
        "from inference_schema.parameter_types.standard_py_parameter_type import StandardPythonParameterType\n",
        "from azureml.automl.core import inference\n",
        "from azureml.automl.dnn.nlp.common.constants import ScoringLiterals, OutputLiterals\n",
        "\n",
        "import numpy as np\n",
        "import pandas as pd\n",
        "import json\n",
        "import pickle\n",
        "import os"
      ],
      "outputs": [
        {
          "output_type": "stream",
          "name": "stderr",
          "text": "/anaconda/envs/azureml_py38/lib/python3.8/site-packages/skl2onnx/algebra/onnx_ops.py:159: UserWarning: OpSchema.FormalParameter.typeStr is deprecated and will be removed in 1.16. Use OpSchema.FormalParameter.type_str instead.\n  tys = obj.typeStr or ''\n/anaconda/envs/azureml_py38/lib/python3.8/site-packages/skl2onnx/algebra/automation.py:154: UserWarning: OpSchema.FormalParameter.isHomogeneous is deprecated and will be removed in 1.16. Use OpSchema.FormalParameter.is_homogeneous instead.\n  if getattr(obj, 'isHomogeneous', False):\n/anaconda/envs/azureml_py38/lib/python3.8/site-packages/jinja2/environment.py:471: UserWarning: OpSchema.FormalParameter.typeStr is deprecated and will be removed in 1.16. Use OpSchema.FormalParameter.type_str instead.\n  return getattr(obj, attribute)\n"
        }
      ],
      "execution_count": 1,
      "metadata": {
        "gather": {
          "logged": 1707844978389
        }
      }
    },
    {
      "cell_type": "code",
      "source": [
        "data_sample = PandasParameterType(pd.DataFrame({\"Question\": pd.Series([\"example_value\"], dtype=\"object\")}))\n",
        "input_sample = StandardPythonParameterType({'data': data_sample})\n",
        "method_sample = StandardPythonParameterType(\"predict\")\n",
        "sample_global_params = StandardPythonParameterType(1.0)\n",
        "\n",
        "result_sample = NumpyParameterType(np.array([\"example_value\"]))\n",
        "output_sample =  StandardPythonParameterType({'Results':result_sample})\n",
        "\n",
        "os.environ[\"AZUREML_MODEL_DIR\"] = os.path.abspath(os.getcwd())\n",
        "os.environ[\"MODEL_FILE_NAME\"] = \"model.pkl\"\n",
        "\n",
        "def init():\n",
        "    os.environ[\"AZUREML_MODEL_DIR_ENV\"] = os.path.abspath(os.getcwd())\n",
        "    os.environ[\"MODEL_FILE_NAME\"] = \"model.pkl\"\n",
        "    \"\"\"This function is called during inferencing environment setup and initializes the model\"\"\"\n",
        "    global model\n",
        "    model_path = os.path.join(os.getenv(ScoringLiterals.AZUREML_MODEL_DIR_ENV), OutputLiterals.MODEL_FILE_NAME)\n",
        "    print(model_path)\n",
        "    with open(model_path, 'rb') as f:\n",
        "        model = pickle.load(f)\n",
        "init()"
      ],
      "outputs": [],
      "execution_count": 4,
      "metadata": {
        "gather": {
          "logged": 1707844978662
        }
      }
    },
    {
      "cell_type": "code",
      "source": [
        "def custom_run(Inputs, GlobalParameters=1.0) -> str:\n",
        "    \"\"\" This is called every time the endpoint is invoked. It returns the prediction of the input data\n",
        "\n",
        "    :param data: input data provided by the user\n",
        "    :type data: pd.DataFrame\n",
        "    :return: json string of the result\n",
        "    :rtype: str\n",
        "    \"\"\"\n",
        "    data = Inputs[\"data\"]\n",
        "    fin_outputs = model.predict_proba(data)\n",
        "    classes = model.classes_\n",
        "    concatenated_lists = [list(zip(classes, single_output)) for single_output in fin_outputs]\n",
        "    return concatenated_lists"
      ],
      "outputs": [],
      "execution_count": 67,
      "metadata": {
        "jupyter": {
          "source_hidden": false,
          "outputs_hidden": false
        },
        "nteract": {
          "transient": {
            "deleting": false
          }
        },
        "gather": {
          "logged": 1707845775704
        }
      }
    },
    {
      "cell_type": "code",
      "source": [
        "data = {\"data\": pd.DataFrame({\"Question\": pd.Series([\"How do I restore deleted items in OneDrive?\",\"Thank you very much\"], dtype=\"object\")})}"
      ],
      "outputs": [],
      "execution_count": 82,
      "metadata": {
        "jupyter": {
          "source_hidden": false,
          "outputs_hidden": false
        },
        "nteract": {
          "transient": {
            "deleting": false
          }
        },
        "gather": {
          "logged": 1707845913699
        }
      }
    },
    {
      "cell_type": "code",
      "source": [
        "custom_run(data)"
      ],
      "outputs": [
        {
          "output_type": "display_data",
          "data": {
            "text/plain": "<IPython.core.display.HTML object>",
            "text/html": ""
          },
          "metadata": {}
        },
        {
          "output_type": "execute_result",
          "execution_count": 83,
          "data": {
            "text/plain": "[[('HR', 0.007832562),\n  ('IT', 0.9905098),\n  ('Servicing', 0.010060785),\n  ('ServicingData', 0.0090904),\n  ('Welcome', 0.0074028424)],\n [('HR', 0.027629567),\n  ('IT', 0.02649772),\n  ('Servicing', 0.024626238),\n  ('ServicingData', 0.026868746),\n  ('Welcome', 0.9744387)]]"
          },
          "metadata": {}
        }
      ],
      "execution_count": 83,
      "metadata": {
        "jupyter": {
          "source_hidden": false,
          "outputs_hidden": false
        },
        "nteract": {
          "transient": {
            "deleting": false
          }
        },
        "gather": {
          "logged": 1707845914316
        }
      }
    },
    {
      "cell_type": "code",
      "source": [
        "def run(Inputs, GlobalParameters=1.0) -> str:\n",
        "    \"\"\" This is called every time the endpoint is invoked. It returns the prediction of the input data\n",
        "\n",
        "    :param data: input data provided by the user\n",
        "    :type data: pd.DataFrame\n",
        "    :return: json string of the result\n",
        "    :rtype: str\n",
        "    \"\"\"\n",
        "    data = Inputs[\"data\"]\n",
        "    fin_outputs = model.predict(data)\n",
        "    return {\"Results\": [list(item) for item in fin_outputs]}"
      ],
      "outputs": [],
      "execution_count": 106,
      "metadata": {
        "jupyter": {
          "source_hidden": false,
          "outputs_hidden": false
        },
        "nteract": {
          "transient": {
            "deleting": false
          }
        },
        "gather": {
          "logged": 1707846213305
        }
      }
    },
    {
      "cell_type": "code",
      "source": [
        "run(data)"
      ],
      "outputs": [
        {
          "output_type": "display_data",
          "data": {
            "text/plain": "<IPython.core.display.HTML object>",
            "text/html": ""
          },
          "metadata": {}
        },
        {
          "output_type": "execute_result",
          "execution_count": 107,
          "data": {
            "text/plain": "{'Results': [['IT'], ['Welcome']]}"
          },
          "metadata": {}
        }
      ],
      "execution_count": 107,
      "metadata": {
        "jupyter": {
          "source_hidden": false,
          "outputs_hidden": false
        },
        "nteract": {
          "transient": {
            "deleting": false
          }
        },
        "gather": {
          "logged": 1707846217458
        }
      }
    },
    {
      "cell_type": "markdown",
      "source": [
        "### Import validation file"
      ],
      "metadata": {
        "nteract": {
          "transient": {
            "deleting": false
          }
        }
      }
    },
    {
      "cell_type": "code",
      "source": [
        "validation = pd.read_csv(\"Validation.csv\")"
      ],
      "outputs": [],
      "execution_count": 108,
      "metadata": {
        "jupyter": {
          "source_hidden": false,
          "outputs_hidden": false
        },
        "nteract": {
          "transient": {
            "deleting": false
          }
        },
        "gather": {
          "logged": 1707846221321
        }
      }
    },
    {
      "cell_type": "code",
      "source": [
        "validation_data = {\"data\": validation}"
      ],
      "outputs": [],
      "execution_count": 109,
      "metadata": {
        "jupyter": {
          "source_hidden": false,
          "outputs_hidden": false
        },
        "nteract": {
          "transient": {
            "deleting": false
          }
        },
        "gather": {
          "logged": 1707846221579
        }
      }
    },
    {
      "cell_type": "code",
      "source": [
        "validation['predictions'] = [prediction[0] for prediction in run(validation_data)['Results']]"
      ],
      "outputs": [
        {
          "output_type": "display_data",
          "data": {
            "text/plain": "<IPython.core.display.HTML object>",
            "text/html": ""
          },
          "metadata": {}
        }
      ],
      "execution_count": 113,
      "metadata": {
        "jupyter": {
          "source_hidden": false,
          "outputs_hidden": false
        },
        "nteract": {
          "transient": {
            "deleting": false
          }
        },
        "gather": {
          "logged": 1707846264317
        }
      }
    },
    {
      "cell_type": "code",
      "source": [
        "validation"
      ],
      "outputs": [
        {
          "output_type": "execute_result",
          "execution_count": 114,
          "data": {
            "text/plain": "                                             Question          Topic  \\\n0                                     What is escrow?      Servicing   \n1   Provide details about Forbearance loss mit ret...      Servicing   \n2   What all liquidation options offered for loss ...      Servicing   \n3   Do I need a Divorce Decree to evaluate loss mi...      Servicing   \n4   give me the guidelines for Transferring Calls ...      Servicing   \n5   What is the process for reviewing a VA loan fo...      Servicing   \n6                     How do I handle a REO account??      Servicing   \n7   How do I handle an account that is in foreclos...      Servicing   \n8   How do I handle an account where the homeowner...      Servicing   \n9                          What is motion for relief?      Servicing   \n10                      When is next company holiday?             HR   \n11          Is Thanksgiving day a holiday in company?             HR   \n12              What is company's remote work policy?             HR   \n13  Does Newrez offers Short Term Disability and L...             HR   \n14         Whats company's Employee referral program?             HR   \n15                          Who is Baron Silverstein?             HR   \n16                   Does NewRez provide sponsorship?             HR   \n17      What do I do if I test positive for Covid-19?             HR   \n18           Does company pay me if I am on jury duty             HR   \n19                does Newrez offers military leave ?             HR   \n20                                           Whats up        Welcome   \n21                                                 hi        Welcome   \n22                                             Thanks        Welcome   \n23                                         Appreciate        Welcome   \n24  How many of the loans boarded in Nov have acti...  ServicingData   \n25  What percentage of our delinquent loans are Fa...  ServicingData   \n26  How many delinquent Freddie and Fannie loans t...  ServicingData   \n27  Provide the count of accounts that have active...  ServicingData   \n28  How many loans didn't have a welcome call that...  ServicingData   \n29      How many loans do we have Inquiry consent on?  ServicingData   \n30   How many GNMA loans have no good phones numbers?  ServicingData   \n31  How many delinquent Freddy and Fannie loans to...  ServicingData   \n32  How many 2 due loan have enough in PTP this mo...  ServicingData   \n33        I am having trouble logging into H2O system             IT   \n34                 I am having trouble with MS Teams?             IT   \n35                How do I change password in citrix?             IT   \n36                           How do I connect to VPN?             IT   \n37                   How do I encrypt outgoing email?             IT   \n38        How do I restore deleted items in OneDrive?             IT   \n39  How do I request a new department e-mailing list?             IT   \n40                         How do I reset a password?             IT   \n41               How do I Order Computer Accessories?             IT   \n42      I need access to EthicsPoint software system?             IT   \n\n      predictions  \n0       Servicing  \n1       Servicing  \n2       Servicing  \n3       Servicing  \n4       Servicing  \n5       Servicing  \n6       Servicing  \n7       Servicing  \n8       Servicing  \n9       Servicing  \n10             HR  \n11             HR  \n12             HR  \n13             HR  \n14             HR  \n15             HR  \n16             HR  \n17      Servicing  \n18             HR  \n19             HR  \n20        Welcome  \n21        Welcome  \n22        Welcome  \n23        Welcome  \n24  ServicingData  \n25  ServicingData  \n26  ServicingData  \n27  ServicingData  \n28  ServicingData  \n29  ServicingData  \n30  ServicingData  \n31  ServicingData  \n32  ServicingData  \n33             IT  \n34             IT  \n35             IT  \n36             IT  \n37             IT  \n38             IT  \n39             IT  \n40             IT  \n41             IT  \n42             IT  ",
            "text/html": "<div>\n<style scoped>\n    .dataframe tbody tr th:only-of-type {\n        vertical-align: middle;\n    }\n\n    .dataframe tbody tr th {\n        vertical-align: top;\n    }\n\n    .dataframe thead th {\n        text-align: right;\n    }\n</style>\n<table border=\"1\" class=\"dataframe\">\n  <thead>\n    <tr style=\"text-align: right;\">\n      <th></th>\n      <th>Question</th>\n      <th>Topic</th>\n      <th>predictions</th>\n    </tr>\n  </thead>\n  <tbody>\n    <tr>\n      <th>0</th>\n      <td>What is escrow?</td>\n      <td>Servicing</td>\n      <td>Servicing</td>\n    </tr>\n    <tr>\n      <th>1</th>\n      <td>Provide details about Forbearance loss mit ret...</td>\n      <td>Servicing</td>\n      <td>Servicing</td>\n    </tr>\n    <tr>\n      <th>2</th>\n      <td>What all liquidation options offered for loss ...</td>\n      <td>Servicing</td>\n      <td>Servicing</td>\n    </tr>\n    <tr>\n      <th>3</th>\n      <td>Do I need a Divorce Decree to evaluate loss mi...</td>\n      <td>Servicing</td>\n      <td>Servicing</td>\n    </tr>\n    <tr>\n      <th>4</th>\n      <td>give me the guidelines for Transferring Calls ...</td>\n      <td>Servicing</td>\n      <td>Servicing</td>\n    </tr>\n    <tr>\n      <th>5</th>\n      <td>What is the process for reviewing a VA loan fo...</td>\n      <td>Servicing</td>\n      <td>Servicing</td>\n    </tr>\n    <tr>\n      <th>6</th>\n      <td>How do I handle a REO account??</td>\n      <td>Servicing</td>\n      <td>Servicing</td>\n    </tr>\n    <tr>\n      <th>7</th>\n      <td>How do I handle an account that is in foreclos...</td>\n      <td>Servicing</td>\n      <td>Servicing</td>\n    </tr>\n    <tr>\n      <th>8</th>\n      <td>How do I handle an account where the homeowner...</td>\n      <td>Servicing</td>\n      <td>Servicing</td>\n    </tr>\n    <tr>\n      <th>9</th>\n      <td>What is motion for relief?</td>\n      <td>Servicing</td>\n      <td>Servicing</td>\n    </tr>\n    <tr>\n      <th>10</th>\n      <td>When is next company holiday?</td>\n      <td>HR</td>\n      <td>HR</td>\n    </tr>\n    <tr>\n      <th>11</th>\n      <td>Is Thanksgiving day a holiday in company?</td>\n      <td>HR</td>\n      <td>HR</td>\n    </tr>\n    <tr>\n      <th>12</th>\n      <td>What is company's remote work policy?</td>\n      <td>HR</td>\n      <td>HR</td>\n    </tr>\n    <tr>\n      <th>13</th>\n      <td>Does Newrez offers Short Term Disability and L...</td>\n      <td>HR</td>\n      <td>HR</td>\n    </tr>\n    <tr>\n      <th>14</th>\n      <td>Whats company's Employee referral program?</td>\n      <td>HR</td>\n      <td>HR</td>\n    </tr>\n    <tr>\n      <th>15</th>\n      <td>Who is Baron Silverstein?</td>\n      <td>HR</td>\n      <td>HR</td>\n    </tr>\n    <tr>\n      <th>16</th>\n      <td>Does NewRez provide sponsorship?</td>\n      <td>HR</td>\n      <td>HR</td>\n    </tr>\n    <tr>\n      <th>17</th>\n      <td>What do I do if I test positive for Covid-19?</td>\n      <td>HR</td>\n      <td>Servicing</td>\n    </tr>\n    <tr>\n      <th>18</th>\n      <td>Does company pay me if I am on jury duty</td>\n      <td>HR</td>\n      <td>HR</td>\n    </tr>\n    <tr>\n      <th>19</th>\n      <td>does Newrez offers military leave ?</td>\n      <td>HR</td>\n      <td>HR</td>\n    </tr>\n    <tr>\n      <th>20</th>\n      <td>Whats up</td>\n      <td>Welcome</td>\n      <td>Welcome</td>\n    </tr>\n    <tr>\n      <th>21</th>\n      <td>hi</td>\n      <td>Welcome</td>\n      <td>Welcome</td>\n    </tr>\n    <tr>\n      <th>22</th>\n      <td>Thanks</td>\n      <td>Welcome</td>\n      <td>Welcome</td>\n    </tr>\n    <tr>\n      <th>23</th>\n      <td>Appreciate</td>\n      <td>Welcome</td>\n      <td>Welcome</td>\n    </tr>\n    <tr>\n      <th>24</th>\n      <td>How many of the loans boarded in Nov have acti...</td>\n      <td>ServicingData</td>\n      <td>ServicingData</td>\n    </tr>\n    <tr>\n      <th>25</th>\n      <td>What percentage of our delinquent loans are Fa...</td>\n      <td>ServicingData</td>\n      <td>ServicingData</td>\n    </tr>\n    <tr>\n      <th>26</th>\n      <td>How many delinquent Freddie and Fannie loans t...</td>\n      <td>ServicingData</td>\n      <td>ServicingData</td>\n    </tr>\n    <tr>\n      <th>27</th>\n      <td>Provide the count of accounts that have active...</td>\n      <td>ServicingData</td>\n      <td>ServicingData</td>\n    </tr>\n    <tr>\n      <th>28</th>\n      <td>How many loans didn't have a welcome call that...</td>\n      <td>ServicingData</td>\n      <td>ServicingData</td>\n    </tr>\n    <tr>\n      <th>29</th>\n      <td>How many loans do we have Inquiry consent on?</td>\n      <td>ServicingData</td>\n      <td>ServicingData</td>\n    </tr>\n    <tr>\n      <th>30</th>\n      <td>How many GNMA loans have no good phones numbers?</td>\n      <td>ServicingData</td>\n      <td>ServicingData</td>\n    </tr>\n    <tr>\n      <th>31</th>\n      <td>How many delinquent Freddy and Fannie loans to...</td>\n      <td>ServicingData</td>\n      <td>ServicingData</td>\n    </tr>\n    <tr>\n      <th>32</th>\n      <td>How many 2 due loan have enough in PTP this mo...</td>\n      <td>ServicingData</td>\n      <td>ServicingData</td>\n    </tr>\n    <tr>\n      <th>33</th>\n      <td>I am having trouble logging into H2O system</td>\n      <td>IT</td>\n      <td>IT</td>\n    </tr>\n    <tr>\n      <th>34</th>\n      <td>I am having trouble with MS Teams?</td>\n      <td>IT</td>\n      <td>IT</td>\n    </tr>\n    <tr>\n      <th>35</th>\n      <td>How do I change password in citrix?</td>\n      <td>IT</td>\n      <td>IT</td>\n    </tr>\n    <tr>\n      <th>36</th>\n      <td>How do I connect to VPN?</td>\n      <td>IT</td>\n      <td>IT</td>\n    </tr>\n    <tr>\n      <th>37</th>\n      <td>How do I encrypt outgoing email?</td>\n      <td>IT</td>\n      <td>IT</td>\n    </tr>\n    <tr>\n      <th>38</th>\n      <td>How do I restore deleted items in OneDrive?</td>\n      <td>IT</td>\n      <td>IT</td>\n    </tr>\n    <tr>\n      <th>39</th>\n      <td>How do I request a new department e-mailing list?</td>\n      <td>IT</td>\n      <td>IT</td>\n    </tr>\n    <tr>\n      <th>40</th>\n      <td>How do I reset a password?</td>\n      <td>IT</td>\n      <td>IT</td>\n    </tr>\n    <tr>\n      <th>41</th>\n      <td>How do I Order Computer Accessories?</td>\n      <td>IT</td>\n      <td>IT</td>\n    </tr>\n    <tr>\n      <th>42</th>\n      <td>I need access to EthicsPoint software system?</td>\n      <td>IT</td>\n      <td>IT</td>\n    </tr>\n  </tbody>\n</table>\n</div>"
          },
          "metadata": {}
        }
      ],
      "execution_count": 114,
      "metadata": {
        "jupyter": {
          "source_hidden": false,
          "outputs_hidden": false
        },
        "nteract": {
          "transient": {
            "deleting": false
          }
        },
        "gather": {
          "logged": 1707846267334
        }
      }
    },
    {
      "cell_type": "code",
      "source": [
        "import matplotlib.pyplot as plt\n",
        "import numpy\n",
        "from sklearn import metrics\n",
        "\n",
        "actual = numpy.random.binomial(1,.9,size = 1000)\n",
        "predicted = numpy.random.binomial(1,.9,size = 1000)\n",
        "\n",
        "confusion_matrix = metrics.confusion_matrix(validation['Topic'], validation['predictions'])\n",
        "\n",
        "cm_display = metrics.ConfusionMatrixDisplay(confusion_matrix = confusion_matrix, display_labels = model.classes_)\n",
        "\n",
        "cm_display.plot()\n",
        "plt.show()"
      ],
      "outputs": [
        {
          "output_type": "display_data",
          "data": {
            "text/plain": "<Figure size 640x480 with 2 Axes>",
            "image/png": "[encoded data removed]"
          },
          "metadata": {}
        }
      ],
      "execution_count": 119,
      "metadata": {
        "jupyter": {
          "source_hidden": false,
          "outputs_hidden": false
        },
        "nteract": {
          "transient": {
            "deleting": false
          }
        },
        "gather": {
          "logged": 1707846403821
        }
      }
    },
    {
      "cell_type": "code",
      "source": [
        "from sklearn.metrics import confusion_matrix, classification_report"
      ],
      "outputs": [],
      "execution_count": 120,
      "metadata": {
        "jupyter": {
          "source_hidden": false,
          "outputs_hidden": false
        },
        "nteract": {
          "transient": {
            "deleting": false
          }
        },
        "gather": {
          "logged": 1707846465071
        }
      }
    },
    {
      "cell_type": "code",
      "source": [
        "print(classification_report(validation['Topic'], validation['predictions']))"
      ],
      "outputs": [
        {
          "output_type": "stream",
          "name": "stdout",
          "text": "               precision    recall  f1-score   support\n\n           HR       1.00      0.90      0.95        10\n           IT       1.00      1.00      1.00        10\n    Servicing       0.91      1.00      0.95        10\nServicingData       1.00      1.00      1.00         9\n      Welcome       1.00      1.00      1.00         4\n\n     accuracy                           0.98        43\n    macro avg       0.98      0.98      0.98        43\n weighted avg       0.98      0.98      0.98        43\n\n"
        }
      ],
      "execution_count": 121,
      "metadata": {
        "jupyter": {
          "source_hidden": false,
          "outputs_hidden": false
        },
        "nteract": {
          "transient": {
            "deleting": false
          }
        },
        "gather": {
          "logged": 1707846485547
        }
      }
    },
    {
      "cell_type": "code",
      "source": [],
      "outputs": [],
      "execution_count": null,
      "metadata": {
        "jupyter": {
          "source_hidden": false,
          "outputs_hidden": false
        },
        "nteract": {
          "transient": {
            "deleting": false
          }
        }
      }
    }
  ],
  "metadata": {
    "kernelspec": {
      "name": "python38-azureml",
      "language": "python",
      "display_name": "Python 3.8 - AzureML"
    },
    "language_info": {
      "name": "python",
      "version": "3.8.5",
      "mimetype": "text/x-python",
      "codemirror_mode": {
        "name": "ipython",
        "version": 3
      },
      "pygments_lexer": "ipython3",
      "nbconvert_exporter": "python",
      "file_extension": ".py"
    },
    "microsoft": {
      "ms_spell_check": {
        "ms_spell_check_language": "en"
      },
      "host": {
        "AzureML": {
          "notebookHasBeenCompleted": true
        }
      }
    },
    "kernel_info": {
      "name": "python38-azureml"
    },
    "nteract": {
      "version": "nteract-front-end@1.0.0"
    }
  },
  "nbformat": 4,
  "nbformat_minor": 2
}