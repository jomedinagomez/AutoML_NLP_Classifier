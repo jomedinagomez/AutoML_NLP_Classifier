{
 "cells": [
  {
   "cell_type": "code",
   "execution_count": null,
   "metadata": {},
   "outputs": [],
   "source": [
    "import mltable\n",
    "from mltable import MLTableHeaders, MLTableFileEncoding, DataType"
   ]
  },
  {
   "cell_type": "code",
   "execution_count": null,
   "metadata": {},
   "outputs": [],
   "source": [
    "# create paths to the data files\n",
    "paths = [{\"file\": \"Training.csv\"}]\n",
    "\n",
    "# create an MLTable from the data files\n",
    "tbl = mltable.from_delimited_files(\n",
    "    paths=paths,\n",
    "    delimiter=\",\",\n",
    "    header=MLTableHeaders.all_files_same_headers,\n",
    "    infer_column_types=True,\n",
    "    include_path_column=False,\n",
    "    encoding=MLTableFileEncoding.utf8,\n",
    ")\n",
    "tbl.save(\"./nlpclassifiertraining\")"
   ]
  },
  {
   "cell_type": "code",
   "execution_count": null,
   "metadata": {},
   "outputs": [],
   "source": [
    "# create paths to the data files\n",
    "paths = [{\"file\": \"Validation.csv\"}]\n",
    "\n",
    "# create an MLTable from the data files\n",
    "tbl = mltable.from_delimited_files(\n",
    "    paths=paths,\n",
    "    delimiter=\",\",\n",
    "    header=MLTableHeaders.all_files_same_headers,\n",
    "    infer_column_types=True,\n",
    "    include_path_column=False,\n",
    "    encoding=MLTableFileEncoding.utf8,\n",
    ")\n",
    "tbl.save(\"./nlpclassifiervalidation\")"
   ]
  },
  {
   "cell_type": "code",
   "execution_count": null,
   "metadata": {},
   "outputs": [],
   "source": []
  }
 ],
 "metadata": {
  "kernelspec": {
   "display_name": "base",
   "language": "python",
   "name": "python3"
  },
  "language_info": {
   "codemirror_mode": {
    "name": "ipython",
    "version": 3
   },
   "file_extension": ".py",
   "mimetype": "text/x-python",
   "name": "python",
   "nbconvert_exporter": "python",
   "pygments_lexer": "ipython3",
   "version": "3.11.3"
  }
 },
 "nbformat": 4,
 "nbformat_minor": 2
}
