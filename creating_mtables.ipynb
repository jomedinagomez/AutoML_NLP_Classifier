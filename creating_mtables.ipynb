{
 "cells": [
  {
   "cell_type": "code",
   "execution_count": 4,
   "metadata": {},
   "outputs": [],
   "source": [
    "import mltable\n",
    "from mltable import MLTableHeaders, MLTableFileEncoding, DataType"
   ]
  },
  {
   "cell_type": "code",
   "execution_count": 5,
   "metadata": {},
   "outputs": [
    {
     "data": {
      "text/plain": [
       "paths:\n",
       "- file: file://c:\\Users\\jomedin\\Documents\\nlp_classifier\\Training.csv\n",
       "transformations:\n",
       "- read_delimited:\n",
       "    delimiter: ','\n",
       "    empty_as_string: false\n",
       "    encoding: utf8\n",
       "    header: all_files_same_headers\n",
       "    include_path_column: false\n",
       "    infer_column_types: true\n",
       "    partition_size: 20971520\n",
       "    path_column: Path\n",
       "    support_multi_line: false\n",
       "type: mltable"
      ]
     },
     "execution_count": 5,
     "metadata": {},
     "output_type": "execute_result"
    }
   ],
   "source": [
    "# create paths to the data files\n",
    "paths = [{\"file\": \"Training.csv\"}]\n",
    "\n",
    "# create an MLTable from the data files\n",
    "tbl = mltable.from_delimited_files(\n",
    "    paths=paths,\n",
    "    delimiter=\",\",\n",
    "    header=MLTableHeaders.all_files_same_headers,\n",
    "    infer_column_types=True,\n",
    "    include_path_column=False,\n",
    "    encoding=MLTableFileEncoding.utf8,\n",
    ")\n",
    "tbl.save(\"./nlpclassifiertraining\")"
   ]
  },
  {
   "cell_type": "code",
   "execution_count": 6,
   "metadata": {},
   "outputs": [
    {
     "data": {
      "text/plain": [
       "paths:\n",
       "- file: file://c:\\Users\\jomedin\\Documents\\nlp_classifier\\Validation.csv\n",
       "transformations:\n",
       "- read_delimited:\n",
       "    delimiter: ','\n",
       "    empty_as_string: false\n",
       "    encoding: utf8\n",
       "    header: all_files_same_headers\n",
       "    include_path_column: false\n",
       "    infer_column_types: true\n",
       "    partition_size: 20971520\n",
       "    path_column: Path\n",
       "    support_multi_line: false\n",
       "type: mltable"
      ]
     },
     "execution_count": 6,
     "metadata": {},
     "output_type": "execute_result"
    }
   ],
   "source": [
    "# create paths to the data files\n",
    "paths = [{\"file\": \"Validation.csv\"}]\n",
    "\n",
    "# create an MLTable from the data files\n",
    "tbl = mltable.from_delimited_files(\n",
    "    paths=paths,\n",
    "    delimiter=\",\",\n",
    "    header=MLTableHeaders.all_files_same_headers,\n",
    "    infer_column_types=True,\n",
    "    include_path_column=False,\n",
    "    encoding=MLTableFileEncoding.utf8,\n",
    ")\n",
    "tbl.save(\"./nlpclassifiervalidation\")"
   ]
  },
  {
   "cell_type": "code",
   "execution_count": null,
   "metadata": {},
   "outputs": [],
   "source": []
  }
 ],
 "metadata": {
  "kernelspec": {
   "display_name": "base",
   "language": "python",
   "name": "python3"
  },
  "language_info": {
   "codemirror_mode": {
    "name": "ipython",
    "version": 3
   },
   "file_extension": ".py",
   "mimetype": "text/x-python",
   "name": "python",
   "nbconvert_exporter": "python",
   "pygments_lexer": "ipython3",
   "version": "3.11.3"
  }
 },
 "nbformat": 4,
 "nbformat_minor": 2
}
